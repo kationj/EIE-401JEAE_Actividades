{
 "cells": [
  {
   "cell_type": "code",
   "execution_count": null,
   "id": "4d57c397-7b69-4514-aafd-b5f0b814485c",
   "metadata": {
    "tags": []
   },
   "outputs": [],
   "source": [
    "import numpy as np\n",
    "import matplotlib.pyplot as plt\n",
    "\n",
    "\"\"\"\n",
    "El inicio de la actividad 1 solicita crear un perfil y un repositorio en github para el curso\n",
    "a continuacion se encontraran los enlaces.\n",
    "https://github.com/kationj\n",
    "hhttps://github.com/kationj/EIE-401JEAE_Actividades\n",
    "\"\"\"\n",
    "\n",
    "\"\"\"\n",
    "La segunda parte pide generar vectores que representen intervalos de tiempo o de una variable, Luego ingresar \n",
    "las siguentes funciones y evaluarlas en los vectores generados.\n",
    "  f(x) = e^-x^2\n",
    "  f(z) = ysin(x)\n",
    "  y finalmente hacer graficas de cada una de las funciones.\n",
    "\"\"\"\n",
    "lar = int (input (\"Ingrese el largo del vector: \"))\n",
    "sal = float (input (\"ingrese el espacio que desea entre los puntos del vector: \"))\n",
    "x = np.arange(0, lar, sal) # vector \n",
    "amp = 5\n",
    "\n",
    "\n",
    "F_1 = np.exp(-x**2) # replicamos la funcion f(x)\n",
    "F_2 = amp * np.sin(x) # replicamos la funcion f(z)\n",
    "#print(F_1)\n",
    "#print(F_2)\n",
    "\n",
    "# Creamos figuras\n",
    "plt.subplot(1, 2, 1)\n",
    "plt.plot(x, F_1)\n",
    "plt.title(\"Gráfica f(x)\")\n",
    "plt.grid()\n",
    "\n",
    "plt.subplot(1, 2, 2)\n",
    "plt.plot(x, F_2)\n",
    "plt.title(\"Gráfica f(z)\")\n",
    "plt.grid()"
   ]
  },
  {
   "cell_type": "code",
   "execution_count": null,
   "id": "ab6be5f8-fe31-49ee-bee1-7528d1053117",
   "metadata": {
    "tags": []
   },
   "outputs": [],
   "source": [
    "\"\"\"\n",
    "a continuacion se solicita generar una funcion y luego aplicarle ruido gausiano\n",
    "\"\"\"\n",
    "# Creamos una funcion cosenoidal\n",
    "\n",
    "t_1 = np.arange(0, 100, 0.1)\n",
    "F_3 = 5*np.cos(t_1)\n",
    "print(F_3)\n",
    "\n",
    "# Definir la media y la desviacion estandar\n",
    "\n",
    "mu, sig = 0 , 0.2\n",
    "\n",
    "# Ruido gaussiano\n",
    "\n",
    "ruido_gaus = np.random.normal(mu, sig, 1000)\n",
    "\n",
    "F_4 = F_3 + ruido_gaus\n",
    "#print(ruido_gaus)\n",
    "#print(F_4)\n",
    "\n"
   ]
  },
  {
   "cell_type": "code",
   "execution_count": null,
   "id": "23922b0a-f86e-40e8-86f4-17e15f2072df",
   "metadata": {},
   "outputs": [],
   "source": [
    "# Creamos figuras\n",
    "\n",
    "plt.plot(F_3)\n",
    "plt.title(\"Gráfica Coseno\")\n",
    "plt.grid()\n",
    "\n",
    "\n"
   ]
  },
  {
   "cell_type": "code",
   "execution_count": null,
   "id": "22390d6e",
   "metadata": {},
   "outputs": [],
   "source": [
    "plt.plot(ruido_gaus)\n",
    "plt.title(\"Gráfica de Ruido\")\n",
    "plt.grid()\n"
   ]
  },
  {
   "cell_type": "code",
   "execution_count": null,
   "id": "e71e4ccb",
   "metadata": {},
   "outputs": [],
   "source": [
    "\n",
    "plt.plot( F_4)\n",
    "plt.title(\"Gráfica Coseno con ruido\")\n",
    "plt.grid()"
   ]
  },
  {
   "cell_type": "code",
   "execution_count": null,
   "id": "12849fa5",
   "metadata": {},
   "outputs": [],
   "source": []
  }
 ],
 "metadata": {
  "kernelspec": {
   "display_name": "Python 3 (ipykernel)",
   "language": "python",
   "name": "python3"
  },
  "language_info": {
   "codemirror_mode": {
    "name": "ipython",
    "version": 3
   },
   "file_extension": ".py",
   "mimetype": "text/x-python",
   "name": "python",
   "nbconvert_exporter": "python",
   "pygments_lexer": "ipython3",
   "version": "3.11.7"
  }
 },
 "nbformat": 4,
 "nbformat_minor": 5
}
